{
 "cells": [
  {
   "cell_type": "markdown",
   "metadata": {},
   "source": [
    "# process_barcode"
   ]
  },
  {
   "cell_type": "code",
   "execution_count": 1,
   "metadata": {},
   "outputs": [],
   "source": [
    "from small_tools.barcodes import process_barcode\n",
    "import pandas as pd"
   ]
  },
  {
   "cell_type": "code",
   "execution_count": null,
   "metadata": {},
   "outputs": [],
   "source": [
    "# Suppose df is your dataframe containing one column with cell names that needs processing\n",
    "# Columns 'x' in df contains the cell names\n",
    "params = {\n",
    "    \"seps\" : ['#', '-'],\n",
    "    \"parts\" : ['lane', 'RNA_barcode', 'suffix']\n",
    "}\n",
    "\n",
    "df[['lane', 'RNA_barcode', 'suffix']] = df['x'].apply(lambda x: pd.Series(process_barcode(x, **params)))"
   ]
  }
 ],
 "metadata": {
  "kernelspec": {
   "display_name": "Python 3",
   "language": "python",
   "name": "python3"
  },
  "language_info": {
   "codemirror_mode": {
    "name": "ipython",
    "version": 3
   },
   "file_extension": ".py",
   "mimetype": "text/x-python",
   "name": "python",
   "nbconvert_exporter": "python",
   "pygments_lexer": "ipython3",
   "version": "3.8.18"
  }
 },
 "nbformat": 4,
 "nbformat_minor": 2
}
