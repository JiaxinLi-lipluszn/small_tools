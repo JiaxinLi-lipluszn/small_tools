{
 "cells": [
  {
   "cell_type": "markdown",
   "metadata": {},
   "source": [
    "# Process_barcode\n"
   ]
  },
  {
   "cell_type": "code",
   "execution_count": 1,
   "metadata": {},
   "outputs": [],
   "source": [
    "import pandas as pd"
   ]
  },
  {
   "cell_type": "code",
   "execution_count": 45,
   "metadata": {},
   "outputs": [],
   "source": [
    "def process_barcode(barcode, **kwargs):\n",
    "    \"\"\"\n",
    "    Process a cell barcode and extract its main body, lane number, and suffix.\n",
    "    You can define the separators by input them into **kwargs\n",
    "\n",
    "    Parameters:\n",
    "    barcode (str): The cell barcode\n",
    "    seps (list): a list of separators in order\n",
    "    parts (list): a list of names of parts in order\n",
    "\n",
    "    Returns:\n",
    "    tuple: a dictionary of all parts in the barcode.\n",
    "\n",
    "    Example Usage:\n",
    "    params = {\n",
    "    \"seps\" : ['#', '-'],\n",
    "    \"parts\" :['lane', 'barcode', 'suffix']\n",
    "    }\n",
    "\n",
    "    archR_barcodes_sep = df['x'].apply(lambda x: pd.Series(process_barcode(barcode=x, **params)))\n",
    "\n",
    "    \"\"\"\n",
    "    assert(\"seps\" in kwargs.keys() and \"parts\" in kwargs.keys())\n",
    "    assert(len(kwargs['seps']) == len(kwargs['parts']) - 1)\n",
    "\n",
    "    ret_dic = {}\n",
    "\n",
    "    for i, sep in enumerate(kwargs['seps']):\n",
    "        parts = barcode.split(sep, 1)\n",
    "        ret_dic[kwargs['parts'][i]] = parts[0]\n",
    "        barcode = parts[1]\n",
    "    \n",
    "    ret_dic[kwargs['parts'][-1]] = barcode\n",
    "\n",
    "    return ret_dic"
   ]
  },
  {
   "cell_type": "code",
   "execution_count": 5,
   "metadata": {},
   "outputs": [],
   "source": [
    "df = pd.read_csv(\"/Users/jiaxinli/Downloads/archR_barcodes.csv\", index_col= 0)"
   ]
  },
  {
   "cell_type": "code",
   "execution_count": 8,
   "metadata": {},
   "outputs": [
    {
     "data": {
      "text/html": [
       "<div>\n",
       "<style scoped>\n",
       "    .dataframe tbody tr th:only-of-type {\n",
       "        vertical-align: middle;\n",
       "    }\n",
       "\n",
       "    .dataframe tbody tr th {\n",
       "        vertical-align: top;\n",
       "    }\n",
       "\n",
       "    .dataframe thead th {\n",
       "        text-align: right;\n",
       "    }\n",
       "</style>\n",
       "<table border=\"1\" class=\"dataframe\">\n",
       "  <thead>\n",
       "    <tr style=\"text-align: right;\">\n",
       "      <th></th>\n",
       "      <th>x</th>\n",
       "    </tr>\n",
       "  </thead>\n",
       "  <tbody>\n",
       "    <tr>\n",
       "      <th>1</th>\n",
       "      <td>lane3#AAACAGCCAACCTAAT-1</td>\n",
       "    </tr>\n",
       "    <tr>\n",
       "      <th>2</th>\n",
       "      <td>lane2#AAACAGCCAACTGGCT-1</td>\n",
       "    </tr>\n",
       "    <tr>\n",
       "      <th>3</th>\n",
       "      <td>lane4#AAACAGCCAAGCCAGA-1</td>\n",
       "    </tr>\n",
       "    <tr>\n",
       "      <th>4</th>\n",
       "      <td>lane2#AAACAGCCAAGCTAAA-1</td>\n",
       "    </tr>\n",
       "    <tr>\n",
       "      <th>5</th>\n",
       "      <td>lane1#AAACAGCCAAGGTAAC-1</td>\n",
       "    </tr>\n",
       "    <tr>\n",
       "      <th>...</th>\n",
       "      <td>...</td>\n",
       "    </tr>\n",
       "    <tr>\n",
       "      <th>48238</th>\n",
       "      <td>lane2#TTTGTTGGTTCAAGCA-1</td>\n",
       "    </tr>\n",
       "    <tr>\n",
       "      <th>48239</th>\n",
       "      <td>lane3#TTTGTTGGTTCCTCCT-1</td>\n",
       "    </tr>\n",
       "    <tr>\n",
       "      <th>48240</th>\n",
       "      <td>lane4#TTTGTTGGTTGGCCGA-1</td>\n",
       "    </tr>\n",
       "    <tr>\n",
       "      <th>48241</th>\n",
       "      <td>lane1#TTTGTTGGTTTAACGG-1</td>\n",
       "    </tr>\n",
       "    <tr>\n",
       "      <th>48242</th>\n",
       "      <td>lane3#TTTGTTGGTTTATTCG-1</td>\n",
       "    </tr>\n",
       "  </tbody>\n",
       "</table>\n",
       "<p>48242 rows × 1 columns</p>\n",
       "</div>"
      ],
      "text/plain": [
       "                              x\n",
       "1      lane3#AAACAGCCAACCTAAT-1\n",
       "2      lane2#AAACAGCCAACTGGCT-1\n",
       "3      lane4#AAACAGCCAAGCCAGA-1\n",
       "4      lane2#AAACAGCCAAGCTAAA-1\n",
       "5      lane1#AAACAGCCAAGGTAAC-1\n",
       "...                         ...\n",
       "48238  lane2#TTTGTTGGTTCAAGCA-1\n",
       "48239  lane3#TTTGTTGGTTCCTCCT-1\n",
       "48240  lane4#TTTGTTGGTTGGCCGA-1\n",
       "48241  lane1#TTTGTTGGTTTAACGG-1\n",
       "48242  lane3#TTTGTTGGTTTATTCG-1\n",
       "\n",
       "[48242 rows x 1 columns]"
      ]
     },
     "execution_count": 8,
     "metadata": {},
     "output_type": "execute_result"
    }
   ],
   "source": [
    "df"
   ]
  },
  {
   "cell_type": "code",
   "execution_count": 20,
   "metadata": {},
   "outputs": [
    {
     "data": {
      "text/plain": [
       "'lane3#AAACAGCCAACCTAAT-1'"
      ]
     },
     "execution_count": 20,
     "metadata": {},
     "output_type": "execute_result"
    }
   ],
   "source": [
    "df.x[1]"
   ]
  },
  {
   "cell_type": "code",
   "execution_count": 26,
   "metadata": {},
   "outputs": [
    {
     "data": {
      "text/plain": [
       "{'lane': 'lane3', 'barcode': 'AAACAGCCAACCTAAT', 'suffix': '1'}"
      ]
     },
     "execution_count": 26,
     "metadata": {},
     "output_type": "execute_result"
    }
   ],
   "source": [
    "process_barcode(df['x'][1], **params)"
   ]
  },
  {
   "cell_type": "code",
   "execution_count": 33,
   "metadata": {},
   "outputs": [],
   "source": [
    "params = {\n",
    "    \"seps\" : ['#', '-'],\n",
    "    \"parts\" :['lane', 'barcode', 'suffix']\n",
    "}\n",
    "\n",
    "archR_barcodes_sep = df['x'].apply(lambda x: pd.Series(process_barcode(barcode=x, **params)))\n"
   ]
  },
  {
   "cell_type": "code",
   "execution_count": 28,
   "metadata": {},
   "outputs": [],
   "source": [
    "ATAC_barcodes = pd.read_csv(\"/Users/jiaxinli/Downloads/Dataset6_sample_1.atac.qc.hg38.metadata.tsv\", sep = '\\t')"
   ]
  },
  {
   "cell_type": "code",
   "execution_count": 30,
   "metadata": {},
   "outputs": [],
   "source": [
    "params = {\n",
    "    \"seps\" : ['_', '_', '_'],\n",
    "    \"parts\" :['barcode', 'dataset', 'sample', 'suffix']\n",
    "}\n",
    "\n",
    "ATAC_barcodes_sep = ATAC_barcodes['barcode'].apply(lambda x: pd.Series(process_barcode(x, **params)))"
   ]
  },
  {
   "cell_type": "code",
   "execution_count": 37,
   "metadata": {},
   "outputs": [
    {
     "data": {
      "text/plain": [
       "46056"
      ]
     },
     "execution_count": 37,
     "metadata": {},
     "output_type": "execute_result"
    }
   ],
   "source": [
    "sum(ATAC_barcodes_sep['barcode'].isin(archR_barcodes_sep['barcode']))"
   ]
  },
  {
   "cell_type": "code",
   "execution_count": 42,
   "metadata": {},
   "outputs": [
    {
     "data": {
      "text/plain": [
       "12306"
      ]
     },
     "execution_count": 42,
     "metadata": {},
     "output_type": "execute_result"
    }
   ],
   "source": [
    "sum(archR_barcodes_sep.loc[archR_barcodes_sep['lane'] == 'lane1', 'barcode'].isin(ATAC_barcodes_sep['barcode']))"
   ]
  },
  {
   "cell_type": "code",
   "execution_count": 43,
   "metadata": {},
   "outputs": [
    {
     "data": {
      "text/plain": [
       "12306"
      ]
     },
     "execution_count": 43,
     "metadata": {},
     "output_type": "execute_result"
    }
   ],
   "source": [
    "len(archR_barcodes_sep.loc[archR_barcodes_sep['lane'] == 'lane1', 'barcode'])"
   ]
  },
  {
   "cell_type": "code",
   "execution_count": 39,
   "metadata": {},
   "outputs": [
    {
     "data": {
      "text/plain": [
       "48242"
      ]
     },
     "execution_count": 39,
     "metadata": {},
     "output_type": "execute_result"
    }
   ],
   "source": [
    "len(archR_barcodes_sep)"
   ]
  },
  {
   "cell_type": "code",
   "execution_count": 38,
   "metadata": {},
   "outputs": [
    {
     "data": {
      "text/plain": [
       "46905"
      ]
     },
     "execution_count": 38,
     "metadata": {},
     "output_type": "execute_result"
    }
   ],
   "source": [
    "len(set(archR_barcodes_sep['barcode']))"
   ]
  },
  {
   "cell_type": "code",
   "execution_count": 32,
   "metadata": {},
   "outputs": [
    {
     "data": {
      "text/html": [
       "<div>\n",
       "<style scoped>\n",
       "    .dataframe tbody tr th:only-of-type {\n",
       "        vertical-align: middle;\n",
       "    }\n",
       "\n",
       "    .dataframe tbody tr th {\n",
       "        vertical-align: top;\n",
       "    }\n",
       "\n",
       "    .dataframe thead th {\n",
       "        text-align: right;\n",
       "    }\n",
       "</style>\n",
       "<table border=\"1\" class=\"dataframe\">\n",
       "  <thead>\n",
       "    <tr style=\"text-align: right;\">\n",
       "      <th></th>\n",
       "      <th>barcode</th>\n",
       "      <th>dataset</th>\n",
       "      <th>sample</th>\n",
       "      <th>suffix</th>\n",
       "    </tr>\n",
       "  </thead>\n",
       "  <tbody>\n",
       "    <tr>\n",
       "      <th>0</th>\n",
       "      <td>AAACAGCCAAACCTTG</td>\n",
       "      <td>Dataset6</td>\n",
       "      <td>sample</td>\n",
       "      <td>1</td>\n",
       "    </tr>\n",
       "    <tr>\n",
       "      <th>1</th>\n",
       "      <td>AAACAGCCAAACGCGA</td>\n",
       "      <td>Dataset6</td>\n",
       "      <td>sample</td>\n",
       "      <td>1</td>\n",
       "    </tr>\n",
       "    <tr>\n",
       "      <th>2</th>\n",
       "      <td>AAACAGCCAAACGGGC</td>\n",
       "      <td>Dataset6</td>\n",
       "      <td>sample</td>\n",
       "      <td>1</td>\n",
       "    </tr>\n",
       "    <tr>\n",
       "      <th>3</th>\n",
       "      <td>AAACAGCCAAAGCGCA</td>\n",
       "      <td>Dataset6</td>\n",
       "      <td>sample</td>\n",
       "      <td>1</td>\n",
       "    </tr>\n",
       "    <tr>\n",
       "      <th>4</th>\n",
       "      <td>AAACAGCCAAAGCTAA</td>\n",
       "      <td>Dataset6</td>\n",
       "      <td>sample</td>\n",
       "      <td>1</td>\n",
       "    </tr>\n",
       "    <tr>\n",
       "      <th>...</th>\n",
       "      <td>...</td>\n",
       "      <td>...</td>\n",
       "      <td>...</td>\n",
       "      <td>...</td>\n",
       "    </tr>\n",
       "    <tr>\n",
       "      <th>352182</th>\n",
       "      <td>TTTGTTGGTTTGAGGC</td>\n",
       "      <td>Dataset6</td>\n",
       "      <td>sample</td>\n",
       "      <td>1</td>\n",
       "    </tr>\n",
       "    <tr>\n",
       "      <th>352183</th>\n",
       "      <td>TTTGTTGGTTTGCAGA</td>\n",
       "      <td>Dataset6</td>\n",
       "      <td>sample</td>\n",
       "      <td>1</td>\n",
       "    </tr>\n",
       "    <tr>\n",
       "      <th>352184</th>\n",
       "      <td>TTTGTTGGTTTGGCTT</td>\n",
       "      <td>Dataset6</td>\n",
       "      <td>sample</td>\n",
       "      <td>1</td>\n",
       "    </tr>\n",
       "    <tr>\n",
       "      <th>352185</th>\n",
       "      <td>TTTGTTGGTTTGGGCG</td>\n",
       "      <td>Dataset6</td>\n",
       "      <td>sample</td>\n",
       "      <td>1</td>\n",
       "    </tr>\n",
       "    <tr>\n",
       "      <th>352186</th>\n",
       "      <td>TTTGTTGGTTTGGGTA</td>\n",
       "      <td>Dataset6</td>\n",
       "      <td>sample</td>\n",
       "      <td>1</td>\n",
       "    </tr>\n",
       "  </tbody>\n",
       "</table>\n",
       "<p>352187 rows × 4 columns</p>\n",
       "</div>"
      ],
      "text/plain": [
       "                 barcode   dataset  sample suffix\n",
       "0       AAACAGCCAAACCTTG  Dataset6  sample      1\n",
       "1       AAACAGCCAAACGCGA  Dataset6  sample      1\n",
       "2       AAACAGCCAAACGGGC  Dataset6  sample      1\n",
       "3       AAACAGCCAAAGCGCA  Dataset6  sample      1\n",
       "4       AAACAGCCAAAGCTAA  Dataset6  sample      1\n",
       "...                  ...       ...     ...    ...\n",
       "352182  TTTGTTGGTTTGAGGC  Dataset6  sample      1\n",
       "352183  TTTGTTGGTTTGCAGA  Dataset6  sample      1\n",
       "352184  TTTGTTGGTTTGGCTT  Dataset6  sample      1\n",
       "352185  TTTGTTGGTTTGGGCG  Dataset6  sample      1\n",
       "352186  TTTGTTGGTTTGGGTA  Dataset6  sample      1\n",
       "\n",
       "[352187 rows x 4 columns]"
      ]
     },
     "execution_count": 32,
     "metadata": {},
     "output_type": "execute_result"
    }
   ],
   "source": [
    "ATAC_barcodes_sep"
   ]
  },
  {
   "cell_type": "code",
   "execution_count": 46,
   "metadata": {},
   "outputs": [
    {
     "data": {
      "text/plain": [
       "['abc', 'abc']"
      ]
     },
     "execution_count": 46,
     "metadata": {},
     "output_type": "execute_result"
    }
   ],
   "source": [
    "a = \"abc\\tabc\"\n",
    "a.split()"
   ]
  },
  {
   "cell_type": "code",
   "execution_count": null,
   "metadata": {},
   "outputs": [],
   "source": [
    "class GenomewideGenerator(torch.utils.data.Dataset):\n",
    "    \"\"\"A data generator for dragonnfruit inputs. Adapted from bpnet-lite.\n",
    "\n",
    "    This generator takes in a set of sequences and output signals \n",
    "    and will return a single element with random jitter and reverse-complement \n",
    "    augmentation applied. Because the data is single-cell where the output\n",
    "    signals differ across cells, each returned element is a random locus\n",
    "    in a random cell. \n",
    "\n",
    "    A conceptual difference between this DataGenerator and the one implemented\n",
    "    in bpnet-lite is that the bpnet-lite one assumes that you can extract all\n",
    "    loci into an array. Here, because there are hundreds of thousands of peaks\n",
    "    and potentially thousands of cells, it is actually more efficient to \n",
    "\n",
    "    Parameters\n",
    "    ----------\n",
    "    sequences: dict of torch.tensors, shape=(n, 4), dtype=torch.float32\n",
    "        A dictionary of the nucleotide sequences to use.\n",
    "\n",
    "    signals: dict of torch.tensors, shape=(n, n_cells), dtype=torch.float32\n",
    "        A dictionary of the cell signals\n",
    "\n",
    "    loci: str or pandas.DataFrame\n",
    "        A set of loci to use.\n",
    "    \n",
    "    cell_states: \n",
    "    \"\"\"\n",
    "\n",
    "    def __init__(self, sequence, signal, neighbors, cell_states, \n",
    "        read_depths, trimming, window, chroms, cells_per_loci=1, \n",
    "        reverse_complement=True, random_state=None):\n",
    "        self.trimming = trimming\n",
    "        self.window = window\n",
    "        self.chroms = chroms\n",
    "        self.cells_per_loci = cells_per_loci\n",
    "        self.reverse_complement = reverse_complement\n",
    "        self.random_state = numpy.random.RandomState(random_state)\n",
    "\n",
    "        self.signal = {chrom: signal[chrom] for chrom in chroms}\n",
    "        self.sequence = {chrom: sequence[chrom] for chrom in chroms}\n",
    "        self.neighbors = neighbors\n",
    "        self.cell_states = cell_states\n",
    "        self.read_depths = read_depths\n",
    "        self._lengths = numpy.array([seq.shape[0] for seq in self.sequence.values()])\n",
    "\n",
    "    def __len__(self):\n",
    "        return sum(self._lengths)\n",
    "\n",
    "    def __getitem__(self, idx):\n",
    "        c_idx = numpy.random.choice(len(self._lengths), \n",
    "            p=self._lengths / self._lengths.sum())\n",
    "        chrom = self.chroms[c_idx]\n",
    "\n",
    "        mid = numpy.random.randint(10000, self._lengths[c_idx]-10000)\n",
    "        cell_idx = numpy.random.randint(self.cell_states.shape[0])\n",
    "        return _extract_example(self, chrom, mid, cell_idx, idx)"
   ]
  },
  {
   "cell_type": "code",
   "execution_count": null,
   "metadata": {},
   "outputs": [],
   "source": [
    "def _extract_example(self, chrom, mid, cell_idx, idx):\n",
    "    \"\"\"An internal function for extracting a single example.\n",
    "\n",
    "    This function will extract an example from a given position in a given\n",
    "    cell and handle adding jitter, creating the dynamic pseudobulk, and\n",
    "    potentially reverse complementing the sequence. It will return the\n",
    "    one-hot encoded sequence, signal, cell representation, and read depth\n",
    "    of that cell.\n",
    "\n",
    "    Note that this function returns a *single* example and that the data\n",
    "    generators below handle the creation of batches by repeatedly calling this\n",
    "    function and concatenating the examples.\n",
    "\n",
    "\n",
    "    Parameters\n",
    "    ----------\n",
    "    self: torch.utils.data.Dataset\n",
    "        This is one of the data generators defined below. Although they may\n",
    "        differ in how loci and cells are selected, they share the same logic\n",
    "        for how to extract the inputs given a cell and location.\n",
    "\n",
    "    chrom: str\n",
    "        The chromosome name to extract from.\n",
    "\n",
    "    mid: int\n",
    "        The middle position to extract a window around.\n",
    "\n",
    "    cell_idx: int\n",
    "        The integer index of the cell to operate on.\n",
    "\n",
    "    idx: int\n",
    "        The index being generated. Necessary when reverse complementing every\n",
    "        even sequence.\n",
    "\n",
    "\n",
    "    Returns\n",
    "    -------\n",
    "    X: torch.Tensor, shape=(4, 2114)\n",
    "        The one-hot encoded sequence\n",
    "\n",
    "    y: torch.Tensor, shape=(1000,)\n",
    "        The signal to be predicted\n",
    "\n",
    "    c: torch.Tensor, shape=(50,)\n",
    "        The cell representation to be extracted.\n",
    "\n",
    "    r: torch.Tensor, shape=(1,)\n",
    "        The read depth of that particular cell.\n",
    "    \"\"\"\n",
    "\n",
    "    start, end = mid - self.window // 2, mid + self.window // 2\n",
    "    neighbs = self.neighbors[cell_idx]\n",
    "\n",
    "    X = self.sequence[chrom][start:end].T.astype('float32')\n",
    "    y = self.signal[chrom][:, start+self.trimming:end-self.trimming]\n",
    "    y = numpy.array(y[neighbs].sum(axis=0))[0]\n",
    "\n",
    "    c = self.cell_states[cell_idx]\n",
    "    r = self.read_depths[cell_idx]\n",
    "\n",
    "    if self.reverse_complement and idx % 2 == 0:\n",
    "        X = X[::-1][:, ::-1].copy()\n",
    "        y = y[::-1].copy()\n",
    "\n",
    "    X = torch.from_numpy(X)\n",
    "    y = torch.from_numpy(y)\n",
    "    c = torch.from_numpy(c)\n",
    "    r = torch.from_numpy(r)\n",
    "    return X, y, c, r\n",
    "∏"
   ]
  }
 ],
 "metadata": {
  "kernelspec": {
   "display_name": "small_tools",
   "language": "python",
   "name": "python3"
  },
  "language_info": {
   "codemirror_mode": {
    "name": "ipython",
    "version": 3
   },
   "file_extension": ".py",
   "mimetype": "text/x-python",
   "name": "python",
   "nbconvert_exporter": "python",
   "pygments_lexer": "ipython3",
   "version": "3.8.18"
  }
 },
 "nbformat": 4,
 "nbformat_minor": 2
}
